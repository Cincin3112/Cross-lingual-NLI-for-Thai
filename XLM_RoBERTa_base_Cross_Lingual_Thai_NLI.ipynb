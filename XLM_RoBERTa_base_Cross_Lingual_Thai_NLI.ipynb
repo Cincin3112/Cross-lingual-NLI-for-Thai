{
  "cells": [
    {
      "cell_type": "markdown",
      "metadata": {
        "id": "view-in-github",
        "colab_type": "text"
      },
      "source": [
        "<a href=\"https://colab.research.google.com/github/Cincin3112/Cross-lingual-NLI-for-Thai/blob/main/XLM_RoBERTa_base_Cross_Lingual_Thai_NLI.ipynb\" target=\"_parent\"><img src=\"https://colab.research.google.com/assets/colab-badge.svg\" alt=\"Open In Colab\"/></a>"
      ]
    },
    {
      "cell_type": "markdown",
      "metadata": {
        "id": "jCIvs7W_rG3l"
      },
      "source": [
        "# install & import"
      ]
    },
    {
      "cell_type": "code",
      "execution_count": null,
      "metadata": {
        "colab": {
          "base_uri": "https://localhost:8080/"
        },
        "id": "PyHgZfHkuvmi",
        "outputId": "87268bcf-7bea-4909-9407-047d4540975b"
      },
      "outputs": [
        {
          "output_type": "stream",
          "name": "stdout",
          "text": [
            "Wed Dec  7 10:30:17 2022       \n",
            "+-----------------------------------------------------------------------------+\n",
            "| NVIDIA-SMI 460.32.03    Driver Version: 460.32.03    CUDA Version: 11.2     |\n",
            "|-------------------------------+----------------------+----------------------+\n",
            "| GPU  Name        Persistence-M| Bus-Id        Disp.A | Volatile Uncorr. ECC |\n",
            "| Fan  Temp  Perf  Pwr:Usage/Cap|         Memory-Usage | GPU-Util  Compute M. |\n",
            "|                               |                      |               MIG M. |\n",
            "|===============================+======================+======================|\n",
            "|   0  Tesla T4            Off  | 00000000:00:04.0 Off |                    0 |\n",
            "| N/A   67C    P0    30W /  70W |      0MiB / 15109MiB |      0%      Default |\n",
            "|                               |                      |                  N/A |\n",
            "+-------------------------------+----------------------+----------------------+\n",
            "                                                                               \n",
            "+-----------------------------------------------------------------------------+\n",
            "| Processes:                                                                  |\n",
            "|  GPU   GI   CI        PID   Type   Process name                  GPU Memory |\n",
            "|        ID   ID                                                   Usage      |\n",
            "|=============================================================================|\n",
            "|  No running processes found                                                 |\n",
            "+-----------------------------------------------------------------------------+\n"
          ]
        }
      ],
      "source": [
        "#check GPU \n",
        "gpu_info = !nvidia-smi\n",
        "gpu_info = '\\n'.join(gpu_info)\n",
        "if gpu_info.find('failed') >= 0:\n",
        "  print('Not connected to a GPU')\n",
        "else:\n",
        "  print(gpu_info)"
      ]
    },
    {
      "cell_type": "code",
      "execution_count": null,
      "metadata": {
        "colab": {
          "base_uri": "https://localhost:8080/"
        },
        "id": "oHwUB9ThuyU2",
        "outputId": "10a8e060-5f6e-4d31-d34e-7f3d56875eb2"
      },
      "outputs": [
        {
          "output_type": "stream",
          "name": "stdout",
          "text": [
            "Looking in indexes: https://pypi.org/simple, https://us-python.pkg.dev/colab-wheels/public/simple/\n",
            "Requirement already satisfied: transformers in /usr/local/lib/python3.8/dist-packages (4.25.1)\n",
            "Requirement already satisfied: filelock in /usr/local/lib/python3.8/dist-packages (from transformers) (3.8.0)\n",
            "Requirement already satisfied: huggingface-hub<1.0,>=0.10.0 in /usr/local/lib/python3.8/dist-packages (from transformers) (0.11.1)\n",
            "Requirement already satisfied: tqdm>=4.27 in /usr/local/lib/python3.8/dist-packages (from transformers) (4.64.1)\n",
            "Requirement already satisfied: requests in /usr/local/lib/python3.8/dist-packages (from transformers) (2.23.0)\n",
            "Requirement already satisfied: tokenizers!=0.11.3,<0.14,>=0.11.1 in /usr/local/lib/python3.8/dist-packages (from transformers) (0.13.2)\n",
            "Requirement already satisfied: numpy>=1.17 in /usr/local/lib/python3.8/dist-packages (from transformers) (1.21.6)\n",
            "Requirement already satisfied: regex!=2019.12.17 in /usr/local/lib/python3.8/dist-packages (from transformers) (2022.6.2)\n",
            "Requirement already satisfied: pyyaml>=5.1 in /usr/local/lib/python3.8/dist-packages (from transformers) (6.0)\n",
            "Requirement already satisfied: packaging>=20.0 in /usr/local/lib/python3.8/dist-packages (from transformers) (21.3)\n",
            "Requirement already satisfied: typing-extensions>=3.7.4.3 in /usr/local/lib/python3.8/dist-packages (from huggingface-hub<1.0,>=0.10.0->transformers) (4.1.1)\n",
            "Requirement already satisfied: pyparsing!=3.0.5,>=2.0.2 in /usr/local/lib/python3.8/dist-packages (from packaging>=20.0->transformers) (3.0.9)\n",
            "Requirement already satisfied: urllib3!=1.25.0,!=1.25.1,<1.26,>=1.21.1 in /usr/local/lib/python3.8/dist-packages (from requests->transformers) (1.25.11)\n",
            "Requirement already satisfied: chardet<4,>=3.0.2 in /usr/local/lib/python3.8/dist-packages (from requests->transformers) (3.0.4)\n",
            "Requirement already satisfied: idna<3,>=2.5 in /usr/local/lib/python3.8/dist-packages (from requests->transformers) (2.10)\n",
            "Requirement already satisfied: certifi>=2017.4.17 in /usr/local/lib/python3.8/dist-packages (from requests->transformers) (2022.9.24)\n"
          ]
        }
      ],
      "source": [
        "!pip install transformers"
      ]
    },
    {
      "cell_type": "code",
      "execution_count": null,
      "metadata": {
        "colab": {
          "base_uri": "https://localhost:8080/"
        },
        "id": "Aeim9qV-uzrW",
        "outputId": "3f467fed-c8b6-4d84-c2ce-fd0846b91919"
      },
      "outputs": [
        {
          "output_type": "stream",
          "name": "stdout",
          "text": [
            "Looking in indexes: https://pypi.org/simple, https://us-python.pkg.dev/colab-wheels/public/simple/\n",
            "Requirement already satisfied: datasets in /usr/local/lib/python3.8/dist-packages (2.7.1)\n",
            "Requirement already satisfied: requests>=2.19.0 in /usr/local/lib/python3.8/dist-packages (from datasets) (2.23.0)\n",
            "Requirement already satisfied: tqdm>=4.62.1 in /usr/local/lib/python3.8/dist-packages (from datasets) (4.64.1)\n",
            "Requirement already satisfied: xxhash in /usr/local/lib/python3.8/dist-packages (from datasets) (3.1.0)\n",
            "Requirement already satisfied: aiohttp in /usr/local/lib/python3.8/dist-packages (from datasets) (3.8.3)\n",
            "Requirement already satisfied: multiprocess in /usr/local/lib/python3.8/dist-packages (from datasets) (0.70.14)\n",
            "Requirement already satisfied: packaging in /usr/local/lib/python3.8/dist-packages (from datasets) (21.3)\n",
            "Requirement already satisfied: dill<0.3.7 in /usr/local/lib/python3.8/dist-packages (from datasets) (0.3.6)\n",
            "Requirement already satisfied: responses<0.19 in /usr/local/lib/python3.8/dist-packages (from datasets) (0.18.0)\n",
            "Requirement already satisfied: numpy>=1.17 in /usr/local/lib/python3.8/dist-packages (from datasets) (1.21.6)\n",
            "Requirement already satisfied: fsspec[http]>=2021.11.1 in /usr/local/lib/python3.8/dist-packages (from datasets) (2022.11.0)\n",
            "Requirement already satisfied: huggingface-hub<1.0.0,>=0.2.0 in /usr/local/lib/python3.8/dist-packages (from datasets) (0.11.1)\n",
            "Requirement already satisfied: pyarrow>=6.0.0 in /usr/local/lib/python3.8/dist-packages (from datasets) (9.0.0)\n",
            "Requirement already satisfied: pandas in /usr/local/lib/python3.8/dist-packages (from datasets) (1.3.5)\n",
            "Requirement already satisfied: pyyaml>=5.1 in /usr/local/lib/python3.8/dist-packages (from datasets) (6.0)\n",
            "Requirement already satisfied: charset-normalizer<3.0,>=2.0 in /usr/local/lib/python3.8/dist-packages (from aiohttp->datasets) (2.1.1)\n",
            "Requirement already satisfied: async-timeout<5.0,>=4.0.0a3 in /usr/local/lib/python3.8/dist-packages (from aiohttp->datasets) (4.0.2)\n",
            "Requirement already satisfied: frozenlist>=1.1.1 in /usr/local/lib/python3.8/dist-packages (from aiohttp->datasets) (1.3.3)\n",
            "Requirement already satisfied: attrs>=17.3.0 in /usr/local/lib/python3.8/dist-packages (from aiohttp->datasets) (22.1.0)\n",
            "Requirement already satisfied: aiosignal>=1.1.2 in /usr/local/lib/python3.8/dist-packages (from aiohttp->datasets) (1.3.1)\n",
            "Requirement already satisfied: yarl<2.0,>=1.0 in /usr/local/lib/python3.8/dist-packages (from aiohttp->datasets) (1.8.1)\n",
            "Requirement already satisfied: multidict<7.0,>=4.5 in /usr/local/lib/python3.8/dist-packages (from aiohttp->datasets) (6.0.2)\n",
            "Requirement already satisfied: typing-extensions>=3.7.4.3 in /usr/local/lib/python3.8/dist-packages (from huggingface-hub<1.0.0,>=0.2.0->datasets) (4.1.1)\n",
            "Requirement already satisfied: filelock in /usr/local/lib/python3.8/dist-packages (from huggingface-hub<1.0.0,>=0.2.0->datasets) (3.8.0)\n",
            "Requirement already satisfied: pyparsing!=3.0.5,>=2.0.2 in /usr/local/lib/python3.8/dist-packages (from packaging->datasets) (3.0.9)\n",
            "Requirement already satisfied: chardet<4,>=3.0.2 in /usr/local/lib/python3.8/dist-packages (from requests>=2.19.0->datasets) (3.0.4)\n",
            "Requirement already satisfied: idna<3,>=2.5 in /usr/local/lib/python3.8/dist-packages (from requests>=2.19.0->datasets) (2.10)\n",
            "Requirement already satisfied: certifi>=2017.4.17 in /usr/local/lib/python3.8/dist-packages (from requests>=2.19.0->datasets) (2022.9.24)\n",
            "Requirement already satisfied: urllib3!=1.25.0,!=1.25.1,<1.26,>=1.21.1 in /usr/local/lib/python3.8/dist-packages (from requests>=2.19.0->datasets) (1.25.11)\n",
            "Requirement already satisfied: python-dateutil>=2.7.3 in /usr/local/lib/python3.8/dist-packages (from pandas->datasets) (2.8.2)\n",
            "Requirement already satisfied: pytz>=2017.3 in /usr/local/lib/python3.8/dist-packages (from pandas->datasets) (2022.6)\n",
            "Requirement already satisfied: six>=1.5 in /usr/local/lib/python3.8/dist-packages (from python-dateutil>=2.7.3->pandas->datasets) (1.15.0)\n"
          ]
        }
      ],
      "source": [
        "!pip install datasets"
      ]
    },
    {
      "cell_type": "code",
      "execution_count": null,
      "metadata": {
        "colab": {
          "base_uri": "https://localhost:8080/"
        },
        "id": "OccwLyALu4g0",
        "outputId": "612f39b0-f5f1-44ec-9755-cbe20a5be0bd"
      },
      "outputs": [
        {
          "output_type": "stream",
          "name": "stdout",
          "text": [
            "Looking in indexes: https://pypi.org/simple, https://us-python.pkg.dev/colab-wheels/public/simple/\n",
            "Requirement already satisfied: sentencepiece in /usr/local/lib/python3.8/dist-packages (0.1.97)\n"
          ]
        }
      ],
      "source": [
        "!pip install sentencepiece"
      ]
    },
    {
      "cell_type": "code",
      "execution_count": null,
      "metadata": {
        "id": "MJrRF9HRu846"
      },
      "outputs": [],
      "source": [
        "from transformers import (\n",
        "    AutoTokenizer, \n",
        "    AutoModel,\n",
        "    AutoModelForSequenceClassification, \n",
        "    AutoConfig,\n",
        "    Trainer, \n",
        "    TrainingArguments,\n",
        ")\n",
        "from datasets import (\n",
        "    Dataset,\n",
        "    DatasetDict,\n",
        "    load_dataset,\n",
        "    Features, Sequence, ClassLabel, Value\n",
        ")\n",
        "\n",
        "import pandas as pd"
      ]
    },
    {
      "cell_type": "markdown",
      "metadata": {
        "id": "rkHUljnJT38W"
      },
      "source": [
        "# load model"
      ]
    },
    {
      "cell_type": "code",
      "execution_count": null,
      "metadata": {
        "colab": {
          "base_uri": "https://localhost:8080/"
        },
        "id": "qRlhS1T9_-NX",
        "outputId": "d6ede48e-f736-48c9-cdb2-d8e4dd2c871f"
      },
      "outputs": [
        {
          "output_type": "stream",
          "name": "stderr",
          "text": [
            "Some weights of the model checkpoint at xlm-roberta-base were not used when initializing XLMRobertaForSequenceClassification: ['lm_head.bias', 'lm_head.dense.weight', 'roberta.pooler.dense.weight', 'lm_head.layer_norm.weight', 'lm_head.dense.bias', 'lm_head.decoder.weight', 'lm_head.layer_norm.bias', 'roberta.pooler.dense.bias']\n",
            "- This IS expected if you are initializing XLMRobertaForSequenceClassification from the checkpoint of a model trained on another task or with another architecture (e.g. initializing a BertForSequenceClassification model from a BertForPreTraining model).\n",
            "- This IS NOT expected if you are initializing XLMRobertaForSequenceClassification from the checkpoint of a model that you expect to be exactly identical (initializing a BertForSequenceClassification model from a BertForSequenceClassification model).\n",
            "Some weights of XLMRobertaForSequenceClassification were not initialized from the model checkpoint at xlm-roberta-base and are newly initialized: ['classifier.dense.bias', 'classifier.dense.weight', 'classifier.out_proj.bias', 'classifier.out_proj.weight']\n",
            "You should probably TRAIN this model on a down-stream task to be able to use it for predictions and inference.\n"
          ]
        }
      ],
      "source": [
        "model_name = 'xlm-roberta-base'\n",
        "config = AutoConfig.from_pretrained(model_name, num_labels=3)\n",
        "model = AutoModelForSequenceClassification.from_pretrained(model_name, config=config)"
      ]
    },
    {
      "cell_type": "code",
      "execution_count": null,
      "metadata": {
        "colab": {
          "base_uri": "https://localhost:8080/"
        },
        "id": "5-gSfqb7SM8v",
        "outputId": "9e5cc190-17b9-42a8-864b-42da0b8b30cd"
      },
      "outputs": [
        {
          "output_type": "stream",
          "name": "stderr",
          "text": [
            "<ipython-input-7-3cf64b9e62a1>:2: FutureWarning: list_metrics is deprecated and will be removed in the next major version of datasets. Use 'evaluate.list_evaluation_modules' instead, from the new library 🤗 Evaluate: https://huggingface.co/docs/evaluate\n",
            "  list_metrics()\n"
          ]
        },
        {
          "output_type": "execute_result",
          "data": {
            "text/plain": [
              "['accuracy',\n",
              " 'bertscore',\n",
              " 'bleu',\n",
              " 'bleurt',\n",
              " 'brier_score',\n",
              " 'cer',\n",
              " 'chrf',\n",
              " 'code_eval',\n",
              " 'comet',\n",
              " 'competition_math',\n",
              " 'coval',\n",
              " 'cuad',\n",
              " 'exact_match',\n",
              " 'f1',\n",
              " 'frugalscore',\n",
              " 'glue',\n",
              " 'google_bleu',\n",
              " 'indic_glue',\n",
              " 'mae',\n",
              " 'mahalanobis',\n",
              " 'mape',\n",
              " 'mase',\n",
              " 'matthews_correlation',\n",
              " 'mauve',\n",
              " 'mean_iou',\n",
              " 'meteor',\n",
              " 'mse',\n",
              " 'nist_mt',\n",
              " 'pearsonr',\n",
              " 'perplexity',\n",
              " 'poseval',\n",
              " 'precision',\n",
              " 'recall',\n",
              " 'rl_reliability',\n",
              " 'roc_auc',\n",
              " 'rouge',\n",
              " 'sacrebleu',\n",
              " 'sari',\n",
              " 'seqeval',\n",
              " 'smape',\n",
              " 'spearmanr',\n",
              " 'squad',\n",
              " 'squad_v2',\n",
              " 'super_glue',\n",
              " 'ter',\n",
              " 'trec_eval',\n",
              " 'wer',\n",
              " 'wiki_split',\n",
              " 'xnli',\n",
              " 'xtreme_s',\n",
              " 'Drunper/metrica_tesi',\n",
              " 'Felipehonorato/my_metric',\n",
              " 'GMFTBY/dailydialog_evaluate',\n",
              " 'GMFTBY/dailydialogevaluate',\n",
              " 'JP-SystemsX/nDCG',\n",
              " 'KevinSpaghetti/accuracyk',\n",
              " 'NCSOFT/harim_plus',\n",
              " 'NikitaMartynov/spell-check-metric',\n",
              " 'NimaBoscarino/weat',\n",
              " 'Ochiroo/rouge_mn',\n",
              " 'Vertaix/vendiscore',\n",
              " 'Viona/infolm',\n",
              " 'Vlasta/pr_auc',\n",
              " 'abdusah/aradiawer',\n",
              " 'abidlabs/mean_iou',\n",
              " 'abidlabs/mean_iou2',\n",
              " 'angelina-wang/directional_bias_amplification',\n",
              " 'anz2/iliauniiccocrevaluation',\n",
              " 'cakiki/ndcg',\n",
              " 'codeparrot/apps_metric',\n",
              " 'cpllab/syntaxgym',\n",
              " 'daiyizheng/valid',\n",
              " 'dvitel/codebleu',\n",
              " 'erntkn/dice_coefficient',\n",
              " 'giulio98/code_eval_outputs',\n",
              " 'giulio98/codebleu',\n",
              " 'gnail/cosine_similarity',\n",
              " 'gorkaartola/metric_for_tp_fp_samples',\n",
              " 'hack/test_metric',\n",
              " 'hpi-dhc/FairEval',\n",
              " 'idsedykh/codebleu',\n",
              " 'idsedykh/codebleu2',\n",
              " 'idsedykh/megaglue',\n",
              " 'idsedykh/metric',\n",
              " 'jordyvl/ece',\n",
              " 'jpxkqx/peak_signal_to_noise_ratio',\n",
              " 'jpxkqx/signal_to_reconstrution_error',\n",
              " 'jzm-mailchimp/joshs_second_test_metric',\n",
              " 'kaggle/ai4code',\n",
              " 'kaggle/amex',\n",
              " 'kashif/mape',\n",
              " 'kasmith/woodscore',\n",
              " 'kyokote/my_metric2',\n",
              " 'leslyarun/fbeta_score',\n",
              " 'loubnabnl/apps_metric2',\n",
              " 'lvwerra/bary_score',\n",
              " 'lvwerra/test',\n",
              " 'mfumanelli/geometric_mean',\n",
              " 'mgfrantz/roc_auc_macro',\n",
              " 'ola13/precision_at_k',\n",
              " 'ronaldahmed/nwentfaithfulness',\n",
              " 'sportlosos/sescore',\n",
              " 'xu1998hz/sescore',\n",
              " 'yulong-me/yl_metric',\n",
              " 'yzha/ctc_eval',\n",
              " 'zbeloki/m2']"
            ]
          },
          "metadata": {},
          "execution_count": 7
        }
      ],
      "source": [
        "from datasets import list_metrics, load_metric\n",
        "list_metrics()"
      ]
    },
    {
      "cell_type": "code",
      "execution_count": null,
      "metadata": {
        "colab": {
          "base_uri": "https://localhost:8080/"
        },
        "id": "P9V2ZXHzSOpR",
        "outputId": "a237ca70-511a-4cef-ba23-7772767fad82"
      },
      "outputs": [
        {
          "output_type": "stream",
          "name": "stderr",
          "text": [
            "<ipython-input-8-180ef0c0d6c3>:1: FutureWarning: load_metric is deprecated and will be removed in the next major version of datasets. Use 'evaluate.load' instead, from the new library 🤗 Evaluate: https://huggingface.co/docs/evaluate\n",
            "  load_metric('accuracy')\n"
          ]
        },
        {
          "output_type": "execute_result",
          "data": {
            "text/plain": [
              "Metric(name: \"accuracy\", features: {'predictions': Value(dtype='int32', id=None), 'references': Value(dtype='int32', id=None)}, usage: \"\"\"\n",
              "Args:\n",
              "    predictions (`list` of `int`): Predicted labels.\n",
              "    references (`list` of `int`): Ground truth labels.\n",
              "    normalize (`boolean`): If set to False, returns the number of correctly classified samples. Otherwise, returns the fraction of correctly classified samples. Defaults to True.\n",
              "    sample_weight (`list` of `float`): Sample weights Defaults to None.\n",
              "\n",
              "Returns:\n",
              "    accuracy (`float` or `int`): Accuracy score. Minimum possible value is 0. Maximum possible value is 1.0, or the number of examples input, if `normalize` is set to `True`.. A higher score means higher accuracy.\n",
              "\n",
              "Examples:\n",
              "\n",
              "    Example 1-A simple example\n",
              "        >>> accuracy_metric = datasets.load_metric(\"accuracy\")\n",
              "        >>> results = accuracy_metric.compute(references=[0, 1, 2, 0, 1, 2], predictions=[0, 1, 1, 2, 1, 0])\n",
              "        >>> print(results)\n",
              "        {'accuracy': 0.5}\n",
              "\n",
              "    Example 2-The same as Example 1, except with `normalize` set to `False`.\n",
              "        >>> accuracy_metric = datasets.load_metric(\"accuracy\")\n",
              "        >>> results = accuracy_metric.compute(references=[0, 1, 2, 0, 1, 2], predictions=[0, 1, 1, 2, 1, 0], normalize=False)\n",
              "        >>> print(results)\n",
              "        {'accuracy': 3.0}\n",
              "\n",
              "    Example 3-The same as Example 1, except with `sample_weight` set.\n",
              "        >>> accuracy_metric = datasets.load_metric(\"accuracy\")\n",
              "        >>> results = accuracy_metric.compute(references=[0, 1, 2, 0, 1, 2], predictions=[0, 1, 1, 2, 1, 0], sample_weight=[0.5, 2, 0.7, 0.5, 9, 0.4])\n",
              "        >>> print(results)\n",
              "        {'accuracy': 0.8778625954198473}\n",
              "\"\"\", stored examples: 0)"
            ]
          },
          "metadata": {},
          "execution_count": 8
        }
      ],
      "source": [
        "load_metric('accuracy')"
      ]
    },
    {
      "cell_type": "markdown",
      "metadata": {
        "id": "fQYdp2hk-3sO"
      },
      "source": [
        "# load data"
      ]
    },
    {
      "cell_type": "code",
      "execution_count": null,
      "metadata": {
        "id": "1lacOQlAYNQh"
      },
      "outputs": [],
      "source": [
        "tokenizer = AutoTokenizer.from_pretrained(model_name)"
      ]
    },
    {
      "cell_type": "code",
      "execution_count": null,
      "metadata": {
        "colab": {
          "base_uri": "https://localhost:8080/"
        },
        "id": "ElM1Lilm-62Q",
        "outputId": "22b59b45-0803-4699-ad36-2729de1bf705"
      },
      "outputs": [
        {
          "output_type": "stream",
          "name": "stdout",
          "text": [
            "Downloading...\n",
            "From: https://drive.google.com/uc?id=1IoZ9R549JYtipOqqbpF3RAU3aS4Ne4EZ\n",
            "To: /content/MULTItwitter_NLI_train.csv\n",
            "100% 1.80M/1.80M [00:00<00:00, 76.8MB/s]\n",
            "Downloading...\n",
            "From: https://drive.google.com/uc?id=1Bfq_RyzGTvEj4sgVi5uH_4nS7di2jwzC\n",
            "To: /content/MULTItwitter_NLI_test.csv\n",
            "100% 89.3k/89.3k [00:00<00:00, 95.8MB/s]\n"
          ]
        }
      ],
      "source": [
        "#for Thai-only dataset\n",
        "#!gdown 1DTktDhCzaWH5ZqXxR1F5ECCw81KxalIW\n",
        "\n",
        "#for Thai-EN dataset\n",
        "#!gdown 1jN78GdA1hddO5QgCt7efRG5Hop2D_a-g\n",
        "\n",
        "#for Thai-ZH dataset\n",
        "#!gdown 1-pHk5_R4kPtbWndhb56dUNoihz4PNAja\n",
        "\n",
        "#for Thai-EN-ZH dataset\n",
        "!gdown 1IoZ9R549JYtipOqqbpF3RAU3aS4Ne4EZ\n",
        "\n",
        "#for Thai test set\n",
        "!gdown 1Bfq_RyzGTvEj4sgVi5uH_4nS7di2jwzC"
      ]
    },
    {
      "cell_type": "code",
      "execution_count": null,
      "metadata": {
        "id": "tyMHacjr-95p"
      },
      "outputs": [],
      "source": [
        "#for Thai-only dataset\n",
        "#df = pd.read_csv('THtwitter_NLI.csv')\n",
        "\n",
        "#for Thai-EN dataset\n",
        "#df = pd.read_csv('MULTI_th_en_NLI.csv')\n",
        "\n",
        "#for Thai-ZH dataset\n",
        "#df = pd.read_csv('MULTI_th_zh_NLI.csv')\n",
        "\n",
        "#for Thai-EN-ZH dataset\n",
        "df = pd.read_csv('MULTItwitter_NLI_train.csv')\n",
        "\n",
        "#for Thai test set\n",
        "df_test = pd.read_csv('MULTItwitter_NLI_test.csv')"
      ]
    },
    {
      "cell_type": "code",
      "execution_count": null,
      "metadata": {
        "id": "3v5q8tWD_Z9X"
      },
      "outputs": [],
      "source": [
        "#แปลง label เป็น index\n",
        "labels = list(set(df['label'].to_list()))\n",
        "label_to_idx = {label:i for i,label in enumerate(labels)}\n",
        "df['label'] = df['label'].apply(lambda x: label_to_idx[x])\n",
        "df_test['label'] = df_test['label'].apply(lambda x: label_to_idx[x])\n",
        "\n",
        "label_list = [0] * len(label_to_idx)\n",
        "for label in label_to_idx:\n",
        "  label_list[label_to_idx[label]] = label "
      ]
    },
    {
      "cell_type": "code",
      "execution_count": null,
      "metadata": {
        "colab": {
          "base_uri": "https://localhost:8080/"
        },
        "id": "19Wm8ZeG_i3x",
        "outputId": "540cc84a-2a22-4501-a452-e1c7113e8c88"
      },
      "outputs": [
        {
          "output_type": "stream",
          "name": "stdout",
          "text": [
            "{'contradiction': 0, 'neutral': 1, 'entailment': 2}\n"
          ]
        }
      ],
      "source": [
        "print(label_to_idx)"
      ]
    },
    {
      "cell_type": "code",
      "execution_count": null,
      "metadata": {
        "colab": {
          "base_uri": "https://localhost:8080/"
        },
        "id": "O71Ok0LmOKKG",
        "outputId": "81fc93ed-9ae9-407d-9072-38f77ba50d43"
      },
      "outputs": [
        {
          "output_type": "stream",
          "name": "stdout",
          "text": [
            "<s> </s> <pad> <unk>\n",
            "0 2 1 3\n"
          ]
        }
      ],
      "source": [
        "cls_token = tokenizer.cls_token\n",
        "sep_token = tokenizer.sep_token\n",
        "pad_token = tokenizer.pad_token\n",
        "unk_token = tokenizer.unk_token\n",
        "\n",
        "print(cls_token, sep_token, pad_token, unk_token)\n",
        "print(tokenizer.cls_token_id, tokenizer.sep_token_id, tokenizer.pad_token_id,  tokenizer.unk_token_id)"
      ]
    },
    {
      "cell_type": "code",
      "execution_count": null,
      "metadata": {
        "colab": {
          "base_uri": "https://localhost:8080/"
        },
        "id": "p9OAkw-1_mq7",
        "outputId": "5761f004-4b3b-4665-8672-de03289e01e4"
      },
      "outputs": [
        {
          "output_type": "execute_result",
          "data": {
            "text/plain": [
              "(4064, 1016, 200)"
            ]
          },
          "metadata": {},
          "execution_count": 15
        }
      ],
      "source": [
        "#split train, dev, test\n",
        "from sklearn.model_selection import train_test_split\n",
        "\n",
        "df_train, df_dev = train_test_split(df, train_size=0.8)\n",
        "\n",
        "len(df_train), len(df_dev), len(df_test)"
      ]
    },
    {
      "cell_type": "markdown",
      "metadata": {
        "id": "NEEqDuylAOYe"
      },
      "source": [
        "# tokenize data\n"
      ]
    },
    {
      "cell_type": "code",
      "execution_count": null,
      "metadata": {
        "colab": {
          "base_uri": "https://localhost:8080/"
        },
        "id": "Z81h_pXMAR01",
        "outputId": "b3d955e0-a065-4e39-8c22-c144b656be89"
      },
      "outputs": [
        {
          "output_type": "execute_result",
          "data": {
            "text/plain": [
              "DatasetDict({\n",
              "    train: Dataset({\n",
              "        features: ['premise', 'hypothesis', 'label'],\n",
              "        num_rows: 4064\n",
              "    })\n",
              "    dev: Dataset({\n",
              "        features: ['premise', 'hypothesis', 'label'],\n",
              "        num_rows: 1016\n",
              "    })\n",
              "    test: Dataset({\n",
              "        features: ['premise', 'hypothesis', 'label'],\n",
              "        num_rows: 200\n",
              "    })\n",
              "})"
            ]
          },
          "metadata": {},
          "execution_count": 16
        }
      ],
      "source": [
        "d = DatasetDict({'train': Dataset.from_pandas(df_train), \n",
        "                 'dev': Dataset.from_pandas(df_dev),\n",
        "                 'test': Dataset.from_pandas(df_test)})\n",
        "\n",
        "d['train'] = d['train'].remove_columns(['__index_level_0__'])\n",
        "d['dev'] = d['dev'].remove_columns(['__index_level_0__'])\n",
        "\n",
        "d"
      ]
    },
    {
      "cell_type": "code",
      "execution_count": null,
      "metadata": {
        "colab": {
          "base_uri": "https://localhost:8080/",
          "referenced_widgets": [
            "6670181f6af1464a8bf3b760f69d678e",
            "4a4bc11d10d7401ab61d67978cd2d2bb",
            "9d183c57a26b4b4fa7628e2c72b48dea",
            "506b4b08aea149e686b41451e9165815",
            "617f1b4bd0a1445f83feb9482c24df08",
            "29a9042a32f74832a986063fc4e4edb2",
            "4e88f28daeeb482faa6ad3ee5c374640",
            "b05323eb5b234558b6a75ce858432074",
            "b66dfeaa425f4c5a971afecdfb6d98dd",
            "6142e6af1ac242cf94953fcb51490509",
            "c5814adc65c64bd8af6b7c1c12b75a1d",
            "e10842a354844752ba6dc1f2f9e01999",
            "656fa716f2214f8b84b3fd8fff905334",
            "152717bad3c04ed9bc48e6672706cae5",
            "22573156a98c4630bf22061dc9b0e8a6",
            "bfa5c9c332e5497abfb12cdc41beb362",
            "a1e81e7a6ef34a80846a804aa6dde32a",
            "cb1aae2bb1c24ea89260145cbd9d2a3d",
            "9643d70b9d414227831c4366ae052e7f",
            "583879aacf4f47f3b314c3b8da3b0c0e",
            "17d4cb29f53846fb82442092c4c3d26c",
            "9d93ee6fba3f473d97e960db4089566a",
            "c3cbd5455d54460ead0542bf9fb97549",
            "bde09d6ae61f45568fb85b69ea1e1247",
            "97554032a9964545947353e22401666d",
            "1da4baa272154de3b52e523d122a8c05",
            "164d4c002500410fa3254a110ca1502e",
            "0e157d495a694e11bc3daadbe563472a",
            "2c690628672648f4946028962491e44d",
            "5a0680701b8a4cbe9bc25cc752f037f2",
            "d326dd7b0cd4415aa3c8d7f1814f5f37",
            "1459376abedc45de9b9dbdcda4446631",
            "0defa8886aa845b8b2b70e4984fc9c42"
          ]
        },
        "id": "qamwUJY0BfPP",
        "outputId": "6ec0be68-ee58-46e1-b454-1096f8babad3"
      },
      "outputs": [
        {
          "output_type": "display_data",
          "data": {
            "text/plain": [
              "  0%|          | 0/5 [00:00<?, ?ba/s]"
            ],
            "application/vnd.jupyter.widget-view+json": {
              "version_major": 2,
              "version_minor": 0,
              "model_id": "6670181f6af1464a8bf3b760f69d678e"
            }
          },
          "metadata": {}
        },
        {
          "output_type": "display_data",
          "data": {
            "text/plain": [
              "  0%|          | 0/2 [00:00<?, ?ba/s]"
            ],
            "application/vnd.jupyter.widget-view+json": {
              "version_major": 2,
              "version_minor": 0,
              "model_id": "e10842a354844752ba6dc1f2f9e01999"
            }
          },
          "metadata": {}
        },
        {
          "output_type": "display_data",
          "data": {
            "text/plain": [
              "  0%|          | 0/1 [00:00<?, ?ba/s]"
            ],
            "application/vnd.jupyter.widget-view+json": {
              "version_major": 2,
              "version_minor": 0,
              "model_id": "c3cbd5455d54460ead0542bf9fb97549"
            }
          },
          "metadata": {}
        }
      ],
      "source": [
        "#tokenizer \n",
        "def tokenize(examples):\n",
        "    tokenized_inputs = tokenizer(examples['premise'], \n",
        "                                 examples['hypothesis'], \n",
        "                                 add_special_tokens = True,\n",
        "                                 truncation=True,\n",
        "                                 is_split_into_words=False,\n",
        "                                 max_length=250)\n",
        "                                 #pad_to_max_length = True)\n",
        "    return tokenized_inputs\n",
        "\n",
        "tokenized_datasets = d.map(tokenize, batched=True)"
      ]
    },
    {
      "cell_type": "code",
      "source": [
        "print(tokenized_datasets['train'][0])"
      ],
      "metadata": {
        "colab": {
          "base_uri": "https://localhost:8080/"
        },
        "id": "FvaLbDg7C0gX",
        "outputId": "c0ef7f35-6fee-4982-bcba-7707df87d9b9"
      },
      "execution_count": null,
      "outputs": [
        {
          "output_type": "stream",
          "name": "stdout",
          "text": [
            "{'premise': '这种生活在地球上也几乎令人难以置信。我们的世界仍然有很多搜索。', 'hypothesis': 'เรายังรู้จักโลกไม่หมด', 'label': 2, 'input_ids': [0, 6, 7382, 2985, 213, 37986, 575, 886, 32870, 18072, 57175, 15760, 5070, 30, 15113, 3221, 29137, 27264, 63449, 30, 2, 2, 19303, 12201, 65621, 25834, 3379, 29652, 2], 'attention_mask': [1, 1, 1, 1, 1, 1, 1, 1, 1, 1, 1, 1, 1, 1, 1, 1, 1, 1, 1, 1, 1, 1, 1, 1, 1, 1, 1, 1, 1]}\n"
          ]
        }
      ]
    },
    {
      "cell_type": "code",
      "execution_count": null,
      "metadata": {
        "colab": {
          "base_uri": "https://localhost:8080/"
        },
        "id": "VBzx3nnNRwKE",
        "outputId": "9cce8316-b84f-4c71-ea87-24642b74d5ea"
      },
      "outputs": [
        {
          "output_type": "execute_result",
          "data": {
            "text/plain": [
              "DatasetDict({\n",
              "    train: Dataset({\n",
              "        features: ['premise', 'hypothesis', 'label', 'input_ids', 'attention_mask'],\n",
              "        num_rows: 4064\n",
              "    })\n",
              "    dev: Dataset({\n",
              "        features: ['premise', 'hypothesis', 'label', 'input_ids', 'attention_mask'],\n",
              "        num_rows: 1016\n",
              "    })\n",
              "    test: Dataset({\n",
              "        features: ['premise', 'hypothesis', 'label', 'input_ids', 'attention_mask'],\n",
              "        num_rows: 200\n",
              "    })\n",
              "})"
            ]
          },
          "metadata": {},
          "execution_count": 19
        }
      ],
      "source": [
        "tokenized_datasets"
      ]
    },
    {
      "cell_type": "code",
      "execution_count": null,
      "metadata": {
        "colab": {
          "base_uri": "https://localhost:8080/"
        },
        "id": "Lvr_z_BfR3BW",
        "outputId": "55e5f415-ed68-4fe8-fd19-5ac6517f3366"
      },
      "outputs": [
        {
          "output_type": "execute_result",
          "data": {
            "text/plain": [
              "['label', 'input_ids', 'attention_mask']"
            ]
          },
          "metadata": {},
          "execution_count": 20
        }
      ],
      "source": [
        "#drop column ที่ไม่ใช่ทิ้ง\n",
        "from transformers import DataCollatorWithPadding\n",
        "\n",
        "data_collator = DataCollatorWithPadding(tokenizer,\n",
        "                                        padding=True, pad_to_multiple_of=8)\n",
        "\n",
        "tokenized_datasets = tokenized_datasets.remove_columns([\"premise\"])\n",
        "tokenized_datasets = tokenized_datasets.remove_columns([\"hypothesis\"])\n",
        "#tokenized_datasets.set_format(\"torch\")\n",
        "tokenized_datasets[\"train\"].column_names"
      ]
    },
    {
      "cell_type": "markdown",
      "metadata": {
        "id": "uOui9jqLXRop"
      },
      "source": [
        "# train model"
      ]
    },
    {
      "cell_type": "code",
      "execution_count": null,
      "metadata": {
        "id": "BCsSpAoUSTil",
        "colab": {
          "base_uri": "https://localhost:8080/",
          "height": 1000
        },
        "outputId": "f92d7796-9232-460f-c887-4879064cad43"
      },
      "outputs": [
        {
          "output_type": "stream",
          "name": "stderr",
          "text": [
            "/usr/local/lib/python3.8/dist-packages/transformers/optimization.py:306: FutureWarning: This implementation of AdamW is deprecated and will be removed in a future version. Use the PyTorch implementation torch.optim.AdamW instead, or set `no_deprecation_warning=True` to disable this warning\n",
            "  warnings.warn(\n",
            "***** Running training *****\n",
            "  Num examples = 4064\n",
            "  Num Epochs = 15\n",
            "  Instantaneous batch size per device = 16\n",
            "  Total train batch size (w. parallel, distributed & accumulation) = 16\n",
            "  Gradient Accumulation steps = 1\n",
            "  Total optimization steps = 3810\n",
            "  Number of trainable parameters = 278045955\n",
            "You're using a XLMRobertaTokenizerFast tokenizer. Please note that with a fast tokenizer, using the `__call__` method is faster than using a method to encode the text followed by a call to the `pad` method to get a padded encoding.\n"
          ]
        },
        {
          "output_type": "display_data",
          "data": {
            "text/plain": [
              "<IPython.core.display.HTML object>"
            ],
            "text/html": [
              "\n",
              "    <div>\n",
              "      \n",
              "      <progress value='3810' max='3810' style='width:300px; height:20px; vertical-align: middle;'></progress>\n",
              "      [3810/3810 25:31, Epoch 15/15]\n",
              "    </div>\n",
              "    <table border=\"1\" class=\"dataframe\">\n",
              "  <thead>\n",
              " <tr style=\"text-align: left;\">\n",
              "      <th>Step</th>\n",
              "      <th>Training Loss</th>\n",
              "      <th>Validation Loss</th>\n",
              "      <th>Accuracy</th>\n",
              "    </tr>\n",
              "  </thead>\n",
              "  <tbody>\n",
              "    <tr>\n",
              "      <td>500</td>\n",
              "      <td>1.106900</td>\n",
              "      <td>1.099726</td>\n",
              "      <td>0.334646</td>\n",
              "    </tr>\n",
              "    <tr>\n",
              "      <td>1000</td>\n",
              "      <td>1.096900</td>\n",
              "      <td>1.071035</td>\n",
              "      <td>0.419291</td>\n",
              "    </tr>\n",
              "    <tr>\n",
              "      <td>1500</td>\n",
              "      <td>0.916200</td>\n",
              "      <td>0.855673</td>\n",
              "      <td>0.627953</td>\n",
              "    </tr>\n",
              "    <tr>\n",
              "      <td>2000</td>\n",
              "      <td>0.645200</td>\n",
              "      <td>0.797075</td>\n",
              "      <td>0.691929</td>\n",
              "    </tr>\n",
              "    <tr>\n",
              "      <td>2500</td>\n",
              "      <td>0.454500</td>\n",
              "      <td>0.737611</td>\n",
              "      <td>0.729331</td>\n",
              "    </tr>\n",
              "    <tr>\n",
              "      <td>3000</td>\n",
              "      <td>0.341400</td>\n",
              "      <td>0.710340</td>\n",
              "      <td>0.763780</td>\n",
              "    </tr>\n",
              "    <tr>\n",
              "      <td>3500</td>\n",
              "      <td>0.245200</td>\n",
              "      <td>0.708460</td>\n",
              "      <td>0.771654</td>\n",
              "    </tr>\n",
              "  </tbody>\n",
              "</table><p>"
            ]
          },
          "metadata": {}
        },
        {
          "output_type": "stream",
          "name": "stderr",
          "text": [
            "***** Running Evaluation *****\n",
            "  Num examples = 1016\n",
            "  Batch size = 16\n",
            "Saving model checkpoint to cross-lingual-Thai-NLI/checkpoint-500\n",
            "Configuration saved in cross-lingual-Thai-NLI/checkpoint-500/config.json\n",
            "Model weights saved in cross-lingual-Thai-NLI/checkpoint-500/pytorch_model.bin\n",
            "tokenizer config file saved in cross-lingual-Thai-NLI/checkpoint-500/tokenizer_config.json\n",
            "Special tokens file saved in cross-lingual-Thai-NLI/checkpoint-500/special_tokens_map.json\n",
            "***** Running Evaluation *****\n",
            "  Num examples = 1016\n",
            "  Batch size = 16\n",
            "Saving model checkpoint to cross-lingual-Thai-NLI/checkpoint-1000\n",
            "Configuration saved in cross-lingual-Thai-NLI/checkpoint-1000/config.json\n",
            "Model weights saved in cross-lingual-Thai-NLI/checkpoint-1000/pytorch_model.bin\n",
            "tokenizer config file saved in cross-lingual-Thai-NLI/checkpoint-1000/tokenizer_config.json\n",
            "Special tokens file saved in cross-lingual-Thai-NLI/checkpoint-1000/special_tokens_map.json\n",
            "***** Running Evaluation *****\n",
            "  Num examples = 1016\n",
            "  Batch size = 16\n",
            "Saving model checkpoint to cross-lingual-Thai-NLI/checkpoint-1500\n",
            "Configuration saved in cross-lingual-Thai-NLI/checkpoint-1500/config.json\n",
            "Model weights saved in cross-lingual-Thai-NLI/checkpoint-1500/pytorch_model.bin\n",
            "tokenizer config file saved in cross-lingual-Thai-NLI/checkpoint-1500/tokenizer_config.json\n",
            "Special tokens file saved in cross-lingual-Thai-NLI/checkpoint-1500/special_tokens_map.json\n",
            "***** Running Evaluation *****\n",
            "  Num examples = 1016\n",
            "  Batch size = 16\n",
            "Saving model checkpoint to cross-lingual-Thai-NLI/checkpoint-2000\n",
            "Configuration saved in cross-lingual-Thai-NLI/checkpoint-2000/config.json\n",
            "Model weights saved in cross-lingual-Thai-NLI/checkpoint-2000/pytorch_model.bin\n",
            "tokenizer config file saved in cross-lingual-Thai-NLI/checkpoint-2000/tokenizer_config.json\n",
            "Special tokens file saved in cross-lingual-Thai-NLI/checkpoint-2000/special_tokens_map.json\n",
            "***** Running Evaluation *****\n",
            "  Num examples = 1016\n",
            "  Batch size = 16\n",
            "Saving model checkpoint to cross-lingual-Thai-NLI/checkpoint-2500\n",
            "Configuration saved in cross-lingual-Thai-NLI/checkpoint-2500/config.json\n",
            "Model weights saved in cross-lingual-Thai-NLI/checkpoint-2500/pytorch_model.bin\n",
            "tokenizer config file saved in cross-lingual-Thai-NLI/checkpoint-2500/tokenizer_config.json\n",
            "Special tokens file saved in cross-lingual-Thai-NLI/checkpoint-2500/special_tokens_map.json\n",
            "***** Running Evaluation *****\n",
            "  Num examples = 1016\n",
            "  Batch size = 16\n",
            "Saving model checkpoint to cross-lingual-Thai-NLI/checkpoint-3000\n",
            "Configuration saved in cross-lingual-Thai-NLI/checkpoint-3000/config.json\n",
            "Model weights saved in cross-lingual-Thai-NLI/checkpoint-3000/pytorch_model.bin\n",
            "tokenizer config file saved in cross-lingual-Thai-NLI/checkpoint-3000/tokenizer_config.json\n",
            "Special tokens file saved in cross-lingual-Thai-NLI/checkpoint-3000/special_tokens_map.json\n",
            "***** Running Evaluation *****\n",
            "  Num examples = 1016\n",
            "  Batch size = 16\n",
            "Saving model checkpoint to cross-lingual-Thai-NLI/checkpoint-3500\n",
            "Configuration saved in cross-lingual-Thai-NLI/checkpoint-3500/config.json\n",
            "Model weights saved in cross-lingual-Thai-NLI/checkpoint-3500/pytorch_model.bin\n",
            "tokenizer config file saved in cross-lingual-Thai-NLI/checkpoint-3500/tokenizer_config.json\n",
            "Special tokens file saved in cross-lingual-Thai-NLI/checkpoint-3500/special_tokens_map.json\n",
            "\n",
            "\n",
            "Training completed. Do not forget to share your model on huggingface.co/models =)\n",
            "\n",
            "\n",
            "Loading best model from cross-lingual-Thai-NLI/checkpoint-3500 (score: 0.7716535433070866).\n"
          ]
        },
        {
          "output_type": "execute_result",
          "data": {
            "text/plain": [
              "TrainOutput(global_step=3810, training_loss=0.6480542721085035, metrics={'train_runtime': 1532.8802, 'train_samples_per_second': 39.768, 'train_steps_per_second': 2.486, 'total_flos': 3002781879820800.0, 'train_loss': 0.6480542721085035, 'epoch': 15.0})"
            ]
          },
          "metadata": {},
          "execution_count": 21
        }
      ],
      "source": [
        "args = TrainingArguments(\n",
        "    output_dir='cross-lingual-Thai-NLI', \n",
        "    learning_rate = 8e-6,\n",
        "    per_device_train_batch_size=16, \n",
        "    per_device_eval_batch_size=16,\n",
        "    num_train_epochs=15, \n",
        "    load_best_model_at_end=True, \n",
        "    metric_for_best_model='accuracy',\n",
        "    evaluation_strategy='steps', \n",
        "    eval_steps=500, \n",
        "    #save_strategy='epoch'    \n",
        ")\n",
        "\n",
        "#metric.compute(predictions=preds, references=predictions.label_ids)\n",
        "import numpy as np\n",
        "\n",
        "def compute_metrics(eval_preds):\n",
        "  metric = load_metric(\"accuracy\")\n",
        "  logits, labels = eval_preds #logists = probability แต่ละ label\n",
        "  predictions = np.argmax(logits, axis=-1)\n",
        "  return metric.compute(predictions=predictions, references=labels)\n",
        "\n",
        "#train model \n",
        "trainer = Trainer(\n",
        "    model,\n",
        "    args,\n",
        "    train_dataset=tokenized_datasets[\"train\"],\n",
        "    eval_dataset=tokenized_datasets[\"dev\"],\n",
        "    data_collator=data_collator,\n",
        "    tokenizer=tokenizer,\n",
        "    compute_metrics=compute_metrics\n",
        ")\n",
        "trainer.train()"
      ]
    },
    {
      "cell_type": "code",
      "execution_count": null,
      "metadata": {
        "colab": {
          "base_uri": "https://localhost:8080/",
          "height": 69
        },
        "id": "hAmTQLElSgKL",
        "outputId": "d66bf750-8c5f-42f5-8cd8-a5aff2b2078f"
      },
      "outputs": [
        {
          "output_type": "stream",
          "name": "stderr",
          "text": [
            "***** Running Prediction *****\n",
            "  Num examples = 200\n",
            "  Batch size = 16\n"
          ]
        },
        {
          "output_type": "display_data",
          "data": {
            "text/plain": [
              "<IPython.core.display.HTML object>"
            ],
            "text/html": []
          },
          "metadata": {}
        }
      ],
      "source": [
        "predictions = trainer.predict(tokenized_datasets['test'])\n",
        "preds = np.argmax(predictions.predictions, axis=-1)"
      ]
    },
    {
      "cell_type": "code",
      "execution_count": null,
      "metadata": {
        "colab": {
          "base_uri": "https://localhost:8080/"
        },
        "id": "HJ-i1FuJSpeh",
        "outputId": "05f50a87-c0f7-4079-a74d-fbb1b34f4284"
      },
      "outputs": [
        {
          "output_type": "stream",
          "name": "stdout",
          "text": [
            "['entailment', 'neutral', 'neutral', 'neutral', 'neutral', 'entailment', 'contradiction', 'neutral', 'contradiction', 'contradiction', 'neutral', 'contradiction', 'neutral', 'contradiction', 'entailment', 'contradiction', 'neutral', 'neutral', 'neutral', 'contradiction', 'contradiction', 'entailment', 'contradiction', 'contradiction', 'entailment', 'entailment', 'neutral', 'contradiction', 'neutral', 'neutral', 'neutral', 'neutral', 'contradiction', 'entailment', 'neutral', 'entailment', 'neutral', 'entailment', 'contradiction', 'contradiction', 'entailment', 'contradiction', 'entailment', 'entailment', 'entailment', 'entailment', 'neutral', 'contradiction', 'neutral', 'contradiction', 'contradiction', 'entailment', 'neutral', 'entailment', 'contradiction', 'contradiction', 'neutral', 'contradiction', 'neutral', 'entailment', 'contradiction', 'neutral', 'neutral', 'contradiction', 'entailment', 'entailment', 'entailment', 'neutral', 'entailment', 'entailment', 'neutral', 'contradiction', 'neutral', 'contradiction', 'neutral', 'neutral', 'contradiction', 'neutral', 'contradiction', 'entailment', 'entailment', 'entailment', 'entailment', 'neutral', 'entailment', 'entailment', 'entailment', 'contradiction', 'contradiction', 'entailment', 'entailment', 'entailment', 'contradiction', 'neutral', 'neutral', 'entailment', 'neutral', 'neutral', 'entailment', 'contradiction', 'neutral', 'neutral', 'neutral', 'entailment', 'contradiction', 'entailment', 'entailment', 'contradiction', 'contradiction', 'contradiction', 'contradiction', 'contradiction', 'entailment', 'contradiction', 'entailment', 'entailment', 'neutral', 'entailment', 'contradiction', 'entailment', 'entailment', 'neutral', 'entailment', 'neutral', 'entailment', 'entailment', 'entailment', 'contradiction', 'contradiction', 'neutral', 'entailment', 'contradiction', 'contradiction', 'neutral', 'entailment', 'entailment', 'entailment', 'neutral', 'entailment', 'neutral', 'entailment', 'entailment', 'neutral', 'neutral', 'neutral', 'entailment', 'entailment', 'entailment', 'neutral', 'contradiction', 'contradiction', 'entailment', 'contradiction', 'entailment', 'neutral', 'contradiction', 'entailment', 'entailment', 'neutral', 'neutral', 'entailment', 'neutral', 'entailment', 'neutral', 'contradiction', 'contradiction', 'neutral', 'contradiction', 'neutral', 'entailment', 'neutral', 'contradiction', 'neutral', 'entailment', 'entailment', 'neutral', 'contradiction', 'contradiction', 'contradiction', 'contradiction', 'contradiction', 'contradiction', 'entailment', 'neutral', 'contradiction', 'neutral', 'neutral', 'entailment', 'entailment', 'entailment', 'entailment', 'contradiction', 'entailment', 'entailment', 'entailment', 'entailment', 'entailment', 'entailment', 'contradiction', 'contradiction']\n",
            "['entailment', 'neutral', 'entailment', 'neutral', 'neutral', 'entailment', 'contradiction', 'neutral', 'contradiction', 'contradiction', 'neutral', 'contradiction', 'neutral', 'contradiction', 'neutral', 'contradiction', 'neutral', 'neutral', 'contradiction', 'contradiction', 'contradiction', 'contradiction', 'contradiction', 'contradiction', 'entailment', 'entailment', 'neutral', 'contradiction', 'neutral', 'neutral', 'neutral', 'neutral', 'contradiction', 'entailment', 'neutral', 'entailment', 'neutral', 'entailment', 'contradiction', 'contradiction', 'neutral', 'entailment', 'contradiction', 'entailment', 'entailment', 'entailment', 'neutral', 'neutral', 'neutral', 'contradiction', 'contradiction', 'entailment', 'neutral', 'entailment', 'contradiction', 'contradiction', 'neutral', 'contradiction', 'neutral', 'neutral', 'contradiction', 'neutral', 'neutral', 'contradiction', 'entailment', 'entailment', 'neutral', 'neutral', 'entailment', 'entailment', 'contradiction', 'contradiction', 'neutral', 'contradiction', 'neutral', 'neutral', 'contradiction', 'neutral', 'contradiction', 'entailment', 'entailment', 'neutral', 'contradiction', 'neutral', 'entailment', 'contradiction', 'contradiction', 'contradiction', 'contradiction', 'entailment', 'entailment', 'entailment', 'contradiction', 'neutral', 'neutral', 'neutral', 'entailment', 'neutral', 'entailment', 'neutral', 'contradiction', 'neutral', 'neutral', 'neutral', 'contradiction', 'neutral', 'entailment', 'contradiction', 'entailment', 'contradiction', 'contradiction', 'contradiction', 'entailment', 'contradiction', 'entailment', 'neutral', 'neutral', 'neutral', 'contradiction', 'entailment', 'entailment', 'neutral', 'neutral', 'neutral', 'entailment', 'entailment', 'entailment', 'contradiction', 'contradiction', 'neutral', 'contradiction', 'contradiction', 'contradiction', 'neutral', 'entailment', 'entailment', 'entailment', 'neutral', 'entailment', 'neutral', 'neutral', 'entailment', 'neutral', 'neutral', 'neutral', 'entailment', 'entailment', 'entailment', 'neutral', 'contradiction', 'contradiction', 'entailment', 'contradiction', 'entailment', 'contradiction', 'contradiction', 'neutral', 'neutral', 'neutral', 'neutral', 'entailment', 'contradiction', 'entailment', 'neutral', 'contradiction', 'contradiction', 'entailment', 'contradiction', 'neutral', 'entailment', 'contradiction', 'entailment', 'neutral', 'entailment', 'entailment', 'entailment', 'neutral', 'contradiction', 'contradiction', 'contradiction', 'contradiction', 'entailment', 'entailment', 'neutral', 'contradiction', 'entailment', 'entailment', 'entailment', 'entailment', 'entailment', 'entailment', 'contradiction', 'entailment', 'entailment', 'entailment', 'entailment', 'entailment', 'entailment', 'contradiction', 'contradiction']\n"
          ]
        }
      ],
      "source": [
        "predicted_labels = [labels[x] for x in preds]\n",
        "#gold = [labels[x] for x in predictions.label_ids]\n",
        "gold = [labels[x] for x in df_test['label']]\n",
        "\n",
        "print(predicted_labels)\n",
        "print(gold)"
      ]
    },
    {
      "cell_type": "code",
      "execution_count": null,
      "metadata": {
        "colab": {
          "base_uri": "https://localhost:8080/"
        },
        "id": "_Wm0mRlJSry1",
        "outputId": "b61f4cba-4f30-4a39-f684-39d491d46a9b"
      },
      "outputs": [
        {
          "output_type": "stream",
          "name": "stdout",
          "text": [
            "               precision    recall  f1-score   support\n",
            "\n",
            "contradiction       0.89      0.82      0.85        66\n",
            "   entailment       0.74      0.85      0.79        67\n",
            "      neutral       0.81      0.75      0.78        67\n",
            "\n",
            "     accuracy                           0.81       200\n",
            "    macro avg       0.81      0.81      0.81       200\n",
            " weighted avg       0.81      0.81      0.81       200\n",
            "\n"
          ]
        }
      ],
      "source": [
        "from sklearn.metrics import classification_report\n",
        "print(classification_report(gold, predicted_labels))"
      ]
    }
  ],
  "metadata": {
    "colab": {
      "toc_visible": true,
      "provenance": [],
      "collapsed_sections": [
        "jCIvs7W_rG3l",
        "rkHUljnJT38W",
        "fQYdp2hk-3sO",
        "NEEqDuylAOYe",
        "uOui9jqLXRop",
        "aeyxCH77fq2P",
        "nN1jIkMefq2i"
      ],
      "authorship_tag": "ABX9TyPm1Ba7vvWiQncacLzL9wLT",
      "include_colab_link": true
    },
    "kernelspec": {
      "display_name": "Python 3",
      "name": "python3"
    },
    "language_info": {
      "name": "python"
    },
    "widgets": {
      "application/vnd.jupyter.widget-state+json": {
        "6670181f6af1464a8bf3b760f69d678e": {
          "model_module": "@jupyter-widgets/controls",
          "model_name": "HBoxModel",
          "model_module_version": "1.5.0",
          "state": {
            "_dom_classes": [],
            "_model_module": "@jupyter-widgets/controls",
            "_model_module_version": "1.5.0",
            "_model_name": "HBoxModel",
            "_view_count": null,
            "_view_module": "@jupyter-widgets/controls",
            "_view_module_version": "1.5.0",
            "_view_name": "HBoxView",
            "box_style": "",
            "children": [
              "IPY_MODEL_4a4bc11d10d7401ab61d67978cd2d2bb",
              "IPY_MODEL_9d183c57a26b4b4fa7628e2c72b48dea",
              "IPY_MODEL_506b4b08aea149e686b41451e9165815"
            ],
            "layout": "IPY_MODEL_617f1b4bd0a1445f83feb9482c24df08"
          }
        },
        "4a4bc11d10d7401ab61d67978cd2d2bb": {
          "model_module": "@jupyter-widgets/controls",
          "model_name": "HTMLModel",
          "model_module_version": "1.5.0",
          "state": {
            "_dom_classes": [],
            "_model_module": "@jupyter-widgets/controls",
            "_model_module_version": "1.5.0",
            "_model_name": "HTMLModel",
            "_view_count": null,
            "_view_module": "@jupyter-widgets/controls",
            "_view_module_version": "1.5.0",
            "_view_name": "HTMLView",
            "description": "",
            "description_tooltip": null,
            "layout": "IPY_MODEL_29a9042a32f74832a986063fc4e4edb2",
            "placeholder": "​",
            "style": "IPY_MODEL_4e88f28daeeb482faa6ad3ee5c374640",
            "value": "100%"
          }
        },
        "9d183c57a26b4b4fa7628e2c72b48dea": {
          "model_module": "@jupyter-widgets/controls",
          "model_name": "FloatProgressModel",
          "model_module_version": "1.5.0",
          "state": {
            "_dom_classes": [],
            "_model_module": "@jupyter-widgets/controls",
            "_model_module_version": "1.5.0",
            "_model_name": "FloatProgressModel",
            "_view_count": null,
            "_view_module": "@jupyter-widgets/controls",
            "_view_module_version": "1.5.0",
            "_view_name": "ProgressView",
            "bar_style": "success",
            "description": "",
            "description_tooltip": null,
            "layout": "IPY_MODEL_b05323eb5b234558b6a75ce858432074",
            "max": 5,
            "min": 0,
            "orientation": "horizontal",
            "style": "IPY_MODEL_b66dfeaa425f4c5a971afecdfb6d98dd",
            "value": 5
          }
        },
        "506b4b08aea149e686b41451e9165815": {
          "model_module": "@jupyter-widgets/controls",
          "model_name": "HTMLModel",
          "model_module_version": "1.5.0",
          "state": {
            "_dom_classes": [],
            "_model_module": "@jupyter-widgets/controls",
            "_model_module_version": "1.5.0",
            "_model_name": "HTMLModel",
            "_view_count": null,
            "_view_module": "@jupyter-widgets/controls",
            "_view_module_version": "1.5.0",
            "_view_name": "HTMLView",
            "description": "",
            "description_tooltip": null,
            "layout": "IPY_MODEL_6142e6af1ac242cf94953fcb51490509",
            "placeholder": "​",
            "style": "IPY_MODEL_c5814adc65c64bd8af6b7c1c12b75a1d",
            "value": " 5/5 [00:00&lt;00:00, 11.51ba/s]"
          }
        },
        "617f1b4bd0a1445f83feb9482c24df08": {
          "model_module": "@jupyter-widgets/base",
          "model_name": "LayoutModel",
          "model_module_version": "1.2.0",
          "state": {
            "_model_module": "@jupyter-widgets/base",
            "_model_module_version": "1.2.0",
            "_model_name": "LayoutModel",
            "_view_count": null,
            "_view_module": "@jupyter-widgets/base",
            "_view_module_version": "1.2.0",
            "_view_name": "LayoutView",
            "align_content": null,
            "align_items": null,
            "align_self": null,
            "border": null,
            "bottom": null,
            "display": null,
            "flex": null,
            "flex_flow": null,
            "grid_area": null,
            "grid_auto_columns": null,
            "grid_auto_flow": null,
            "grid_auto_rows": null,
            "grid_column": null,
            "grid_gap": null,
            "grid_row": null,
            "grid_template_areas": null,
            "grid_template_columns": null,
            "grid_template_rows": null,
            "height": null,
            "justify_content": null,
            "justify_items": null,
            "left": null,
            "margin": null,
            "max_height": null,
            "max_width": null,
            "min_height": null,
            "min_width": null,
            "object_fit": null,
            "object_position": null,
            "order": null,
            "overflow": null,
            "overflow_x": null,
            "overflow_y": null,
            "padding": null,
            "right": null,
            "top": null,
            "visibility": null,
            "width": null
          }
        },
        "29a9042a32f74832a986063fc4e4edb2": {
          "model_module": "@jupyter-widgets/base",
          "model_name": "LayoutModel",
          "model_module_version": "1.2.0",
          "state": {
            "_model_module": "@jupyter-widgets/base",
            "_model_module_version": "1.2.0",
            "_model_name": "LayoutModel",
            "_view_count": null,
            "_view_module": "@jupyter-widgets/base",
            "_view_module_version": "1.2.0",
            "_view_name": "LayoutView",
            "align_content": null,
            "align_items": null,
            "align_self": null,
            "border": null,
            "bottom": null,
            "display": null,
            "flex": null,
            "flex_flow": null,
            "grid_area": null,
            "grid_auto_columns": null,
            "grid_auto_flow": null,
            "grid_auto_rows": null,
            "grid_column": null,
            "grid_gap": null,
            "grid_row": null,
            "grid_template_areas": null,
            "grid_template_columns": null,
            "grid_template_rows": null,
            "height": null,
            "justify_content": null,
            "justify_items": null,
            "left": null,
            "margin": null,
            "max_height": null,
            "max_width": null,
            "min_height": null,
            "min_width": null,
            "object_fit": null,
            "object_position": null,
            "order": null,
            "overflow": null,
            "overflow_x": null,
            "overflow_y": null,
            "padding": null,
            "right": null,
            "top": null,
            "visibility": null,
            "width": null
          }
        },
        "4e88f28daeeb482faa6ad3ee5c374640": {
          "model_module": "@jupyter-widgets/controls",
          "model_name": "DescriptionStyleModel",
          "model_module_version": "1.5.0",
          "state": {
            "_model_module": "@jupyter-widgets/controls",
            "_model_module_version": "1.5.0",
            "_model_name": "DescriptionStyleModel",
            "_view_count": null,
            "_view_module": "@jupyter-widgets/base",
            "_view_module_version": "1.2.0",
            "_view_name": "StyleView",
            "description_width": ""
          }
        },
        "b05323eb5b234558b6a75ce858432074": {
          "model_module": "@jupyter-widgets/base",
          "model_name": "LayoutModel",
          "model_module_version": "1.2.0",
          "state": {
            "_model_module": "@jupyter-widgets/base",
            "_model_module_version": "1.2.0",
            "_model_name": "LayoutModel",
            "_view_count": null,
            "_view_module": "@jupyter-widgets/base",
            "_view_module_version": "1.2.0",
            "_view_name": "LayoutView",
            "align_content": null,
            "align_items": null,
            "align_self": null,
            "border": null,
            "bottom": null,
            "display": null,
            "flex": null,
            "flex_flow": null,
            "grid_area": null,
            "grid_auto_columns": null,
            "grid_auto_flow": null,
            "grid_auto_rows": null,
            "grid_column": null,
            "grid_gap": null,
            "grid_row": null,
            "grid_template_areas": null,
            "grid_template_columns": null,
            "grid_template_rows": null,
            "height": null,
            "justify_content": null,
            "justify_items": null,
            "left": null,
            "margin": null,
            "max_height": null,
            "max_width": null,
            "min_height": null,
            "min_width": null,
            "object_fit": null,
            "object_position": null,
            "order": null,
            "overflow": null,
            "overflow_x": null,
            "overflow_y": null,
            "padding": null,
            "right": null,
            "top": null,
            "visibility": null,
            "width": null
          }
        },
        "b66dfeaa425f4c5a971afecdfb6d98dd": {
          "model_module": "@jupyter-widgets/controls",
          "model_name": "ProgressStyleModel",
          "model_module_version": "1.5.0",
          "state": {
            "_model_module": "@jupyter-widgets/controls",
            "_model_module_version": "1.5.0",
            "_model_name": "ProgressStyleModel",
            "_view_count": null,
            "_view_module": "@jupyter-widgets/base",
            "_view_module_version": "1.2.0",
            "_view_name": "StyleView",
            "bar_color": null,
            "description_width": ""
          }
        },
        "6142e6af1ac242cf94953fcb51490509": {
          "model_module": "@jupyter-widgets/base",
          "model_name": "LayoutModel",
          "model_module_version": "1.2.0",
          "state": {
            "_model_module": "@jupyter-widgets/base",
            "_model_module_version": "1.2.0",
            "_model_name": "LayoutModel",
            "_view_count": null,
            "_view_module": "@jupyter-widgets/base",
            "_view_module_version": "1.2.0",
            "_view_name": "LayoutView",
            "align_content": null,
            "align_items": null,
            "align_self": null,
            "border": null,
            "bottom": null,
            "display": null,
            "flex": null,
            "flex_flow": null,
            "grid_area": null,
            "grid_auto_columns": null,
            "grid_auto_flow": null,
            "grid_auto_rows": null,
            "grid_column": null,
            "grid_gap": null,
            "grid_row": null,
            "grid_template_areas": null,
            "grid_template_columns": null,
            "grid_template_rows": null,
            "height": null,
            "justify_content": null,
            "justify_items": null,
            "left": null,
            "margin": null,
            "max_height": null,
            "max_width": null,
            "min_height": null,
            "min_width": null,
            "object_fit": null,
            "object_position": null,
            "order": null,
            "overflow": null,
            "overflow_x": null,
            "overflow_y": null,
            "padding": null,
            "right": null,
            "top": null,
            "visibility": null,
            "width": null
          }
        },
        "c5814adc65c64bd8af6b7c1c12b75a1d": {
          "model_module": "@jupyter-widgets/controls",
          "model_name": "DescriptionStyleModel",
          "model_module_version": "1.5.0",
          "state": {
            "_model_module": "@jupyter-widgets/controls",
            "_model_module_version": "1.5.0",
            "_model_name": "DescriptionStyleModel",
            "_view_count": null,
            "_view_module": "@jupyter-widgets/base",
            "_view_module_version": "1.2.0",
            "_view_name": "StyleView",
            "description_width": ""
          }
        },
        "e10842a354844752ba6dc1f2f9e01999": {
          "model_module": "@jupyter-widgets/controls",
          "model_name": "HBoxModel",
          "model_module_version": "1.5.0",
          "state": {
            "_dom_classes": [],
            "_model_module": "@jupyter-widgets/controls",
            "_model_module_version": "1.5.0",
            "_model_name": "HBoxModel",
            "_view_count": null,
            "_view_module": "@jupyter-widgets/controls",
            "_view_module_version": "1.5.0",
            "_view_name": "HBoxView",
            "box_style": "",
            "children": [
              "IPY_MODEL_656fa716f2214f8b84b3fd8fff905334",
              "IPY_MODEL_152717bad3c04ed9bc48e6672706cae5",
              "IPY_MODEL_22573156a98c4630bf22061dc9b0e8a6"
            ],
            "layout": "IPY_MODEL_bfa5c9c332e5497abfb12cdc41beb362"
          }
        },
        "656fa716f2214f8b84b3fd8fff905334": {
          "model_module": "@jupyter-widgets/controls",
          "model_name": "HTMLModel",
          "model_module_version": "1.5.0",
          "state": {
            "_dom_classes": [],
            "_model_module": "@jupyter-widgets/controls",
            "_model_module_version": "1.5.0",
            "_model_name": "HTMLModel",
            "_view_count": null,
            "_view_module": "@jupyter-widgets/controls",
            "_view_module_version": "1.5.0",
            "_view_name": "HTMLView",
            "description": "",
            "description_tooltip": null,
            "layout": "IPY_MODEL_a1e81e7a6ef34a80846a804aa6dde32a",
            "placeholder": "​",
            "style": "IPY_MODEL_cb1aae2bb1c24ea89260145cbd9d2a3d",
            "value": "100%"
          }
        },
        "152717bad3c04ed9bc48e6672706cae5": {
          "model_module": "@jupyter-widgets/controls",
          "model_name": "FloatProgressModel",
          "model_module_version": "1.5.0",
          "state": {
            "_dom_classes": [],
            "_model_module": "@jupyter-widgets/controls",
            "_model_module_version": "1.5.0",
            "_model_name": "FloatProgressModel",
            "_view_count": null,
            "_view_module": "@jupyter-widgets/controls",
            "_view_module_version": "1.5.0",
            "_view_name": "ProgressView",
            "bar_style": "success",
            "description": "",
            "description_tooltip": null,
            "layout": "IPY_MODEL_9643d70b9d414227831c4366ae052e7f",
            "max": 2,
            "min": 0,
            "orientation": "horizontal",
            "style": "IPY_MODEL_583879aacf4f47f3b314c3b8da3b0c0e",
            "value": 2
          }
        },
        "22573156a98c4630bf22061dc9b0e8a6": {
          "model_module": "@jupyter-widgets/controls",
          "model_name": "HTMLModel",
          "model_module_version": "1.5.0",
          "state": {
            "_dom_classes": [],
            "_model_module": "@jupyter-widgets/controls",
            "_model_module_version": "1.5.0",
            "_model_name": "HTMLModel",
            "_view_count": null,
            "_view_module": "@jupyter-widgets/controls",
            "_view_module_version": "1.5.0",
            "_view_name": "HTMLView",
            "description": "",
            "description_tooltip": null,
            "layout": "IPY_MODEL_17d4cb29f53846fb82442092c4c3d26c",
            "placeholder": "​",
            "style": "IPY_MODEL_9d93ee6fba3f473d97e960db4089566a",
            "value": " 2/2 [00:00&lt;00:00,  3.29ba/s]"
          }
        },
        "bfa5c9c332e5497abfb12cdc41beb362": {
          "model_module": "@jupyter-widgets/base",
          "model_name": "LayoutModel",
          "model_module_version": "1.2.0",
          "state": {
            "_model_module": "@jupyter-widgets/base",
            "_model_module_version": "1.2.0",
            "_model_name": "LayoutModel",
            "_view_count": null,
            "_view_module": "@jupyter-widgets/base",
            "_view_module_version": "1.2.0",
            "_view_name": "LayoutView",
            "align_content": null,
            "align_items": null,
            "align_self": null,
            "border": null,
            "bottom": null,
            "display": null,
            "flex": null,
            "flex_flow": null,
            "grid_area": null,
            "grid_auto_columns": null,
            "grid_auto_flow": null,
            "grid_auto_rows": null,
            "grid_column": null,
            "grid_gap": null,
            "grid_row": null,
            "grid_template_areas": null,
            "grid_template_columns": null,
            "grid_template_rows": null,
            "height": null,
            "justify_content": null,
            "justify_items": null,
            "left": null,
            "margin": null,
            "max_height": null,
            "max_width": null,
            "min_height": null,
            "min_width": null,
            "object_fit": null,
            "object_position": null,
            "order": null,
            "overflow": null,
            "overflow_x": null,
            "overflow_y": null,
            "padding": null,
            "right": null,
            "top": null,
            "visibility": null,
            "width": null
          }
        },
        "a1e81e7a6ef34a80846a804aa6dde32a": {
          "model_module": "@jupyter-widgets/base",
          "model_name": "LayoutModel",
          "model_module_version": "1.2.0",
          "state": {
            "_model_module": "@jupyter-widgets/base",
            "_model_module_version": "1.2.0",
            "_model_name": "LayoutModel",
            "_view_count": null,
            "_view_module": "@jupyter-widgets/base",
            "_view_module_version": "1.2.0",
            "_view_name": "LayoutView",
            "align_content": null,
            "align_items": null,
            "align_self": null,
            "border": null,
            "bottom": null,
            "display": null,
            "flex": null,
            "flex_flow": null,
            "grid_area": null,
            "grid_auto_columns": null,
            "grid_auto_flow": null,
            "grid_auto_rows": null,
            "grid_column": null,
            "grid_gap": null,
            "grid_row": null,
            "grid_template_areas": null,
            "grid_template_columns": null,
            "grid_template_rows": null,
            "height": null,
            "justify_content": null,
            "justify_items": null,
            "left": null,
            "margin": null,
            "max_height": null,
            "max_width": null,
            "min_height": null,
            "min_width": null,
            "object_fit": null,
            "object_position": null,
            "order": null,
            "overflow": null,
            "overflow_x": null,
            "overflow_y": null,
            "padding": null,
            "right": null,
            "top": null,
            "visibility": null,
            "width": null
          }
        },
        "cb1aae2bb1c24ea89260145cbd9d2a3d": {
          "model_module": "@jupyter-widgets/controls",
          "model_name": "DescriptionStyleModel",
          "model_module_version": "1.5.0",
          "state": {
            "_model_module": "@jupyter-widgets/controls",
            "_model_module_version": "1.5.0",
            "_model_name": "DescriptionStyleModel",
            "_view_count": null,
            "_view_module": "@jupyter-widgets/base",
            "_view_module_version": "1.2.0",
            "_view_name": "StyleView",
            "description_width": ""
          }
        },
        "9643d70b9d414227831c4366ae052e7f": {
          "model_module": "@jupyter-widgets/base",
          "model_name": "LayoutModel",
          "model_module_version": "1.2.0",
          "state": {
            "_model_module": "@jupyter-widgets/base",
            "_model_module_version": "1.2.0",
            "_model_name": "LayoutModel",
            "_view_count": null,
            "_view_module": "@jupyter-widgets/base",
            "_view_module_version": "1.2.0",
            "_view_name": "LayoutView",
            "align_content": null,
            "align_items": null,
            "align_self": null,
            "border": null,
            "bottom": null,
            "display": null,
            "flex": null,
            "flex_flow": null,
            "grid_area": null,
            "grid_auto_columns": null,
            "grid_auto_flow": null,
            "grid_auto_rows": null,
            "grid_column": null,
            "grid_gap": null,
            "grid_row": null,
            "grid_template_areas": null,
            "grid_template_columns": null,
            "grid_template_rows": null,
            "height": null,
            "justify_content": null,
            "justify_items": null,
            "left": null,
            "margin": null,
            "max_height": null,
            "max_width": null,
            "min_height": null,
            "min_width": null,
            "object_fit": null,
            "object_position": null,
            "order": null,
            "overflow": null,
            "overflow_x": null,
            "overflow_y": null,
            "padding": null,
            "right": null,
            "top": null,
            "visibility": null,
            "width": null
          }
        },
        "583879aacf4f47f3b314c3b8da3b0c0e": {
          "model_module": "@jupyter-widgets/controls",
          "model_name": "ProgressStyleModel",
          "model_module_version": "1.5.0",
          "state": {
            "_model_module": "@jupyter-widgets/controls",
            "_model_module_version": "1.5.0",
            "_model_name": "ProgressStyleModel",
            "_view_count": null,
            "_view_module": "@jupyter-widgets/base",
            "_view_module_version": "1.2.0",
            "_view_name": "StyleView",
            "bar_color": null,
            "description_width": ""
          }
        },
        "17d4cb29f53846fb82442092c4c3d26c": {
          "model_module": "@jupyter-widgets/base",
          "model_name": "LayoutModel",
          "model_module_version": "1.2.0",
          "state": {
            "_model_module": "@jupyter-widgets/base",
            "_model_module_version": "1.2.0",
            "_model_name": "LayoutModel",
            "_view_count": null,
            "_view_module": "@jupyter-widgets/base",
            "_view_module_version": "1.2.0",
            "_view_name": "LayoutView",
            "align_content": null,
            "align_items": null,
            "align_self": null,
            "border": null,
            "bottom": null,
            "display": null,
            "flex": null,
            "flex_flow": null,
            "grid_area": null,
            "grid_auto_columns": null,
            "grid_auto_flow": null,
            "grid_auto_rows": null,
            "grid_column": null,
            "grid_gap": null,
            "grid_row": null,
            "grid_template_areas": null,
            "grid_template_columns": null,
            "grid_template_rows": null,
            "height": null,
            "justify_content": null,
            "justify_items": null,
            "left": null,
            "margin": null,
            "max_height": null,
            "max_width": null,
            "min_height": null,
            "min_width": null,
            "object_fit": null,
            "object_position": null,
            "order": null,
            "overflow": null,
            "overflow_x": null,
            "overflow_y": null,
            "padding": null,
            "right": null,
            "top": null,
            "visibility": null,
            "width": null
          }
        },
        "9d93ee6fba3f473d97e960db4089566a": {
          "model_module": "@jupyter-widgets/controls",
          "model_name": "DescriptionStyleModel",
          "model_module_version": "1.5.0",
          "state": {
            "_model_module": "@jupyter-widgets/controls",
            "_model_module_version": "1.5.0",
            "_model_name": "DescriptionStyleModel",
            "_view_count": null,
            "_view_module": "@jupyter-widgets/base",
            "_view_module_version": "1.2.0",
            "_view_name": "StyleView",
            "description_width": ""
          }
        },
        "c3cbd5455d54460ead0542bf9fb97549": {
          "model_module": "@jupyter-widgets/controls",
          "model_name": "HBoxModel",
          "model_module_version": "1.5.0",
          "state": {
            "_dom_classes": [],
            "_model_module": "@jupyter-widgets/controls",
            "_model_module_version": "1.5.0",
            "_model_name": "HBoxModel",
            "_view_count": null,
            "_view_module": "@jupyter-widgets/controls",
            "_view_module_version": "1.5.0",
            "_view_name": "HBoxView",
            "box_style": "",
            "children": [
              "IPY_MODEL_bde09d6ae61f45568fb85b69ea1e1247",
              "IPY_MODEL_97554032a9964545947353e22401666d",
              "IPY_MODEL_1da4baa272154de3b52e523d122a8c05"
            ],
            "layout": "IPY_MODEL_164d4c002500410fa3254a110ca1502e"
          }
        },
        "bde09d6ae61f45568fb85b69ea1e1247": {
          "model_module": "@jupyter-widgets/controls",
          "model_name": "HTMLModel",
          "model_module_version": "1.5.0",
          "state": {
            "_dom_classes": [],
            "_model_module": "@jupyter-widgets/controls",
            "_model_module_version": "1.5.0",
            "_model_name": "HTMLModel",
            "_view_count": null,
            "_view_module": "@jupyter-widgets/controls",
            "_view_module_version": "1.5.0",
            "_view_name": "HTMLView",
            "description": "",
            "description_tooltip": null,
            "layout": "IPY_MODEL_0e157d495a694e11bc3daadbe563472a",
            "placeholder": "​",
            "style": "IPY_MODEL_2c690628672648f4946028962491e44d",
            "value": "100%"
          }
        },
        "97554032a9964545947353e22401666d": {
          "model_module": "@jupyter-widgets/controls",
          "model_name": "FloatProgressModel",
          "model_module_version": "1.5.0",
          "state": {
            "_dom_classes": [],
            "_model_module": "@jupyter-widgets/controls",
            "_model_module_version": "1.5.0",
            "_model_name": "FloatProgressModel",
            "_view_count": null,
            "_view_module": "@jupyter-widgets/controls",
            "_view_module_version": "1.5.0",
            "_view_name": "ProgressView",
            "bar_style": "success",
            "description": "",
            "description_tooltip": null,
            "layout": "IPY_MODEL_5a0680701b8a4cbe9bc25cc752f037f2",
            "max": 1,
            "min": 0,
            "orientation": "horizontal",
            "style": "IPY_MODEL_d326dd7b0cd4415aa3c8d7f1814f5f37",
            "value": 1
          }
        },
        "1da4baa272154de3b52e523d122a8c05": {
          "model_module": "@jupyter-widgets/controls",
          "model_name": "HTMLModel",
          "model_module_version": "1.5.0",
          "state": {
            "_dom_classes": [],
            "_model_module": "@jupyter-widgets/controls",
            "_model_module_version": "1.5.0",
            "_model_name": "HTMLModel",
            "_view_count": null,
            "_view_module": "@jupyter-widgets/controls",
            "_view_module_version": "1.5.0",
            "_view_name": "HTMLView",
            "description": "",
            "description_tooltip": null,
            "layout": "IPY_MODEL_1459376abedc45de9b9dbdcda4446631",
            "placeholder": "​",
            "style": "IPY_MODEL_0defa8886aa845b8b2b70e4984fc9c42",
            "value": " 1/1 [00:00&lt;00:00, 15.67ba/s]"
          }
        },
        "164d4c002500410fa3254a110ca1502e": {
          "model_module": "@jupyter-widgets/base",
          "model_name": "LayoutModel",
          "model_module_version": "1.2.0",
          "state": {
            "_model_module": "@jupyter-widgets/base",
            "_model_module_version": "1.2.0",
            "_model_name": "LayoutModel",
            "_view_count": null,
            "_view_module": "@jupyter-widgets/base",
            "_view_module_version": "1.2.0",
            "_view_name": "LayoutView",
            "align_content": null,
            "align_items": null,
            "align_self": null,
            "border": null,
            "bottom": null,
            "display": null,
            "flex": null,
            "flex_flow": null,
            "grid_area": null,
            "grid_auto_columns": null,
            "grid_auto_flow": null,
            "grid_auto_rows": null,
            "grid_column": null,
            "grid_gap": null,
            "grid_row": null,
            "grid_template_areas": null,
            "grid_template_columns": null,
            "grid_template_rows": null,
            "height": null,
            "justify_content": null,
            "justify_items": null,
            "left": null,
            "margin": null,
            "max_height": null,
            "max_width": null,
            "min_height": null,
            "min_width": null,
            "object_fit": null,
            "object_position": null,
            "order": null,
            "overflow": null,
            "overflow_x": null,
            "overflow_y": null,
            "padding": null,
            "right": null,
            "top": null,
            "visibility": null,
            "width": null
          }
        },
        "0e157d495a694e11bc3daadbe563472a": {
          "model_module": "@jupyter-widgets/base",
          "model_name": "LayoutModel",
          "model_module_version": "1.2.0",
          "state": {
            "_model_module": "@jupyter-widgets/base",
            "_model_module_version": "1.2.0",
            "_model_name": "LayoutModel",
            "_view_count": null,
            "_view_module": "@jupyter-widgets/base",
            "_view_module_version": "1.2.0",
            "_view_name": "LayoutView",
            "align_content": null,
            "align_items": null,
            "align_self": null,
            "border": null,
            "bottom": null,
            "display": null,
            "flex": null,
            "flex_flow": null,
            "grid_area": null,
            "grid_auto_columns": null,
            "grid_auto_flow": null,
            "grid_auto_rows": null,
            "grid_column": null,
            "grid_gap": null,
            "grid_row": null,
            "grid_template_areas": null,
            "grid_template_columns": null,
            "grid_template_rows": null,
            "height": null,
            "justify_content": null,
            "justify_items": null,
            "left": null,
            "margin": null,
            "max_height": null,
            "max_width": null,
            "min_height": null,
            "min_width": null,
            "object_fit": null,
            "object_position": null,
            "order": null,
            "overflow": null,
            "overflow_x": null,
            "overflow_y": null,
            "padding": null,
            "right": null,
            "top": null,
            "visibility": null,
            "width": null
          }
        },
        "2c690628672648f4946028962491e44d": {
          "model_module": "@jupyter-widgets/controls",
          "model_name": "DescriptionStyleModel",
          "model_module_version": "1.5.0",
          "state": {
            "_model_module": "@jupyter-widgets/controls",
            "_model_module_version": "1.5.0",
            "_model_name": "DescriptionStyleModel",
            "_view_count": null,
            "_view_module": "@jupyter-widgets/base",
            "_view_module_version": "1.2.0",
            "_view_name": "StyleView",
            "description_width": ""
          }
        },
        "5a0680701b8a4cbe9bc25cc752f037f2": {
          "model_module": "@jupyter-widgets/base",
          "model_name": "LayoutModel",
          "model_module_version": "1.2.0",
          "state": {
            "_model_module": "@jupyter-widgets/base",
            "_model_module_version": "1.2.0",
            "_model_name": "LayoutModel",
            "_view_count": null,
            "_view_module": "@jupyter-widgets/base",
            "_view_module_version": "1.2.0",
            "_view_name": "LayoutView",
            "align_content": null,
            "align_items": null,
            "align_self": null,
            "border": null,
            "bottom": null,
            "display": null,
            "flex": null,
            "flex_flow": null,
            "grid_area": null,
            "grid_auto_columns": null,
            "grid_auto_flow": null,
            "grid_auto_rows": null,
            "grid_column": null,
            "grid_gap": null,
            "grid_row": null,
            "grid_template_areas": null,
            "grid_template_columns": null,
            "grid_template_rows": null,
            "height": null,
            "justify_content": null,
            "justify_items": null,
            "left": null,
            "margin": null,
            "max_height": null,
            "max_width": null,
            "min_height": null,
            "min_width": null,
            "object_fit": null,
            "object_position": null,
            "order": null,
            "overflow": null,
            "overflow_x": null,
            "overflow_y": null,
            "padding": null,
            "right": null,
            "top": null,
            "visibility": null,
            "width": null
          }
        },
        "d326dd7b0cd4415aa3c8d7f1814f5f37": {
          "model_module": "@jupyter-widgets/controls",
          "model_name": "ProgressStyleModel",
          "model_module_version": "1.5.0",
          "state": {
            "_model_module": "@jupyter-widgets/controls",
            "_model_module_version": "1.5.0",
            "_model_name": "ProgressStyleModel",
            "_view_count": null,
            "_view_module": "@jupyter-widgets/base",
            "_view_module_version": "1.2.0",
            "_view_name": "StyleView",
            "bar_color": null,
            "description_width": ""
          }
        },
        "1459376abedc45de9b9dbdcda4446631": {
          "model_module": "@jupyter-widgets/base",
          "model_name": "LayoutModel",
          "model_module_version": "1.2.0",
          "state": {
            "_model_module": "@jupyter-widgets/base",
            "_model_module_version": "1.2.0",
            "_model_name": "LayoutModel",
            "_view_count": null,
            "_view_module": "@jupyter-widgets/base",
            "_view_module_version": "1.2.0",
            "_view_name": "LayoutView",
            "align_content": null,
            "align_items": null,
            "align_self": null,
            "border": null,
            "bottom": null,
            "display": null,
            "flex": null,
            "flex_flow": null,
            "grid_area": null,
            "grid_auto_columns": null,
            "grid_auto_flow": null,
            "grid_auto_rows": null,
            "grid_column": null,
            "grid_gap": null,
            "grid_row": null,
            "grid_template_areas": null,
            "grid_template_columns": null,
            "grid_template_rows": null,
            "height": null,
            "justify_content": null,
            "justify_items": null,
            "left": null,
            "margin": null,
            "max_height": null,
            "max_width": null,
            "min_height": null,
            "min_width": null,
            "object_fit": null,
            "object_position": null,
            "order": null,
            "overflow": null,
            "overflow_x": null,
            "overflow_y": null,
            "padding": null,
            "right": null,
            "top": null,
            "visibility": null,
            "width": null
          }
        },
        "0defa8886aa845b8b2b70e4984fc9c42": {
          "model_module": "@jupyter-widgets/controls",
          "model_name": "DescriptionStyleModel",
          "model_module_version": "1.5.0",
          "state": {
            "_model_module": "@jupyter-widgets/controls",
            "_model_module_version": "1.5.0",
            "_model_name": "DescriptionStyleModel",
            "_view_count": null,
            "_view_module": "@jupyter-widgets/base",
            "_view_module_version": "1.2.0",
            "_view_name": "StyleView",
            "description_width": ""
          }
        }
      }
    },
    "accelerator": "GPU",
    "gpuClass": "standard"
  },
  "nbformat": 4,
  "nbformat_minor": 0
}